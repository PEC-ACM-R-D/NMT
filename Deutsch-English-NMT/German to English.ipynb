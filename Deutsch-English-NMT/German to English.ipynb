{
 "cells": [
  {
   "cell_type": "code",
   "execution_count": 39,
   "metadata": {},
   "outputs": [],
   "source": [
    "import re\n",
    "import string\n",
    "import numpy as np\n",
    "from pickle import dump,load\n",
    "from unicodedata import normalize"
   ]
  },
  {
   "cell_type": "code",
   "execution_count": 40,
   "metadata": {},
   "outputs": [],
   "source": [
    "def load_doc(filename):\n",
    "    file = open(filename, mode = 'rt', encoding='utf-8')\n",
    "    text = file.read()\n",
    "    file.close()\n",
    "    return text"
   ]
  },
  {
   "cell_type": "code",
   "execution_count": 41,
   "metadata": {},
   "outputs": [],
   "source": [
    "def to_pairs(doc):\n",
    "    lines = doc.strip().split('\\n')\n",
    "    pairs = [line.split('\\t') for line in lines]\n",
    "    return pairs"
   ]
  },
  {
   "cell_type": "code",
   "execution_count": 42,
   "metadata": {},
   "outputs": [],
   "source": [
    "def remove_garbage(lines):\n",
    "    cleaned_pairs = []\n",
    "    #separating unwanted text at end of every pair\n",
    "    for line in lines:\n",
    "        cleaned_pairs.append([line[0],line[1]])\n",
    "    return cleaned_pairs"
   ]
  },
  {
   "cell_type": "code",
   "execution_count": 43,
   "metadata": {},
   "outputs": [],
   "source": [
    "def clean_pairs(lines):\n",
    "    cleaned = list()\n",
    "    # prepare regex for char filtering\n",
    "    re_punc = re.compile('[%s]' % re.escape(string.punctuation))\n",
    "    re_print = re.compile('[^%s]' % re.escape(string.printable))\n",
    "    for pair in lines:\n",
    "        clean_pair = list()\n",
    "        for line in pair:\n",
    "            # normalize unicode characters\n",
    "            line = normalize('NFD', line).encode('ascii', 'ignore')\n",
    "            line = line.decode('UTF-8')\n",
    "            # tokenize on white space\n",
    "            line = line.split()\n",
    "            # convert to lowercase\n",
    "            line = [word.lower() for word in line]\n",
    "            # remove punctuation from each token\n",
    "            line = [re_punc.sub('', w) for w in line]\n",
    "            # remove non-printable chars form each token\n",
    "            line = [re_print.sub('', w) for w in line]\n",
    "            # remove tokens with numbers in them\n",
    "            line = [word for word in line if word.isalpha()]\n",
    "            # store as string\n",
    "            clean_pair.append(' '.join(line))\n",
    "        cleaned.append(clean_pair)\n",
    "    return np.array(cleaned)"
   ]
  },
  {
   "cell_type": "code",
   "execution_count": 44,
   "metadata": {},
   "outputs": [],
   "source": [
    "# save a list of clean sentences to file\n",
    "def save_clean_data(sentences, filename):\n",
    "    dump(sentences, open(filename, 'wb'))\n",
    "    print('Saved: %s' % filename)"
   ]
  },
  {
   "cell_type": "code",
   "execution_count": 45,
   "metadata": {},
   "outputs": [],
   "source": [
    "filename = 'deu.txt'"
   ]
  },
  {
   "cell_type": "code",
   "execution_count": 46,
   "metadata": {},
   "outputs": [],
   "source": [
    "doc = load_doc(filename)"
   ]
  },
  {
   "cell_type": "code",
   "execution_count": 47,
   "metadata": {},
   "outputs": [],
   "source": [
    "pairs = to_pairs(doc)"
   ]
  },
  {
   "cell_type": "code",
   "execution_count": 48,
   "metadata": {},
   "outputs": [],
   "source": [
    "pairs = remove_garbage(pairs)"
   ]
  },
  {
   "cell_type": "code",
   "execution_count": 50,
   "metadata": {},
   "outputs": [],
   "source": [
    "clean_pairs = clean_pairs(pairs)"
   ]
  },
  {
   "cell_type": "code",
   "execution_count": 53,
   "metadata": {},
   "outputs": [
    {
     "name": "stdout",
     "output_type": "stream",
     "text": [
      "Saved: english_german.pkl\n"
     ]
    }
   ],
   "source": [
    "save_clean_data(clean_pairs, 'english_german.pkl')"
   ]
  },
  {
   "cell_type": "code",
   "execution_count": 55,
   "metadata": {},
   "outputs": [],
   "source": [
    "def load_clean_sentences(filename):\n",
    "    return load(open(filename, 'rb'))"
   ]
  },
  {
   "cell_type": "code",
   "execution_count": 56,
   "metadata": {},
   "outputs": [],
   "source": [
    "def save_clean_data(sentences, filename):\n",
    "    dump(sentences, open(filename, 'wb'))\n",
    "    print(f'Saved: {filename}')"
   ]
  },
  {
   "cell_type": "code",
   "execution_count": 57,
   "metadata": {},
   "outputs": [],
   "source": [
    "raw_dataset = load_clean_sentences('english_german.pkl')"
   ]
  },
  {
   "cell_type": "code",
   "execution_count": 58,
   "metadata": {},
   "outputs": [],
   "source": [
    "n_sentences = 10000\n",
    "dataset = raw_dataset[:n_sentences, :]"
   ]
  },
  {
   "cell_type": "code",
   "execution_count": 59,
   "metadata": {},
   "outputs": [],
   "source": [
    "np.random.shuffle(dataset)"
   ]
  },
  {
   "cell_type": "code",
   "execution_count": 62,
   "metadata": {},
   "outputs": [],
   "source": [
    "train, test = dataset[:9000], dataset[9000:]"
   ]
  },
  {
   "cell_type": "code",
   "execution_count": 65,
   "metadata": {},
   "outputs": [
    {
     "name": "stdout",
     "output_type": "stream",
     "text": [
      "Saved: english_german-both.pkl\n"
     ]
    }
   ],
   "source": [
    "save_clean_data(dataset, 'english_german-both.pkl')"
   ]
  },
  {
   "cell_type": "code",
   "execution_count": 66,
   "metadata": {},
   "outputs": [
    {
     "name": "stdout",
     "output_type": "stream",
     "text": [
      "Saved: english_german-train.pkl\n"
     ]
    }
   ],
   "source": [
    "save_clean_data(train, 'english_german-train.pkl')"
   ]
  },
  {
   "cell_type": "code",
   "execution_count": 69,
   "metadata": {},
   "outputs": [],
   "source": [
    "dataset = load_clean_sentences('english_german-both.pkl')"
   ]
  },
  {
   "cell_type": "code",
   "execution_count": 70,
   "metadata": {},
   "outputs": [],
   "source": [
    "train = load_clean_sentences('english_german-train.pkl')"
   ]
  },
  {
   "cell_type": "code",
   "execution_count": 71,
   "metadata": {},
   "outputs": [],
   "source": [
    "test = load_clean_sentences('english_german-test.pkl')"
   ]
  },
  {
   "cell_type": "markdown",
   "metadata": {},
   "source": [
    "### Tokenization"
   ]
  },
  {
   "cell_type": "code",
   "execution_count": 72,
   "metadata": {},
   "outputs": [],
   "source": [
    "import tensorflow as tf\n",
    "from tensorflow import keras"
   ]
  },
  {
   "cell_type": "code",
   "execution_count": 73,
   "metadata": {},
   "outputs": [],
   "source": [
    "from tensorflow.keras.preprocessing.text import Tokenizer\n",
    "from tensorflow.keras.preprocessing.sequence import pad_sequences"
   ]
  },
  {
   "cell_type": "code",
   "execution_count": 74,
   "metadata": {},
   "outputs": [],
   "source": [
    "tokenizer = Tokenizer()"
   ]
  },
  {
   "cell_type": "code",
   "execution_count": 75,
   "metadata": {},
   "outputs": [],
   "source": [
    "def create_tokenizer(lines):\n",
    "    tokenizer.fit_on_texts(lines)\n",
    "    return tokenizer"
   ]
  },
  {
   "cell_type": "code",
   "execution_count": 76,
   "metadata": {},
   "outputs": [],
   "source": [
    "def max_length(lines):\n",
    "    return max(len(line.split()) for line in lines)"
   ]
  },
  {
   "cell_type": "code",
   "execution_count": 87,
   "metadata": {},
   "outputs": [
    {
     "name": "stdout",
     "output_type": "stream",
     "text": [
      "English Vocab size 5651\n"
     ]
    }
   ],
   "source": [
    "# prepare english tokenizer\n",
    "eng_tokenizer = create_tokenizer(dataset[:,0])\n",
    "eng_vocab_size = len(eng_tokenizer.word_index) + 1\n",
    "eng_length = max_length(dataset[:, 0])\n",
    "print(f'English Vocab size {eng_vocab_size}')"
   ]
  },
  {
   "cell_type": "code",
   "execution_count": 88,
   "metadata": {},
   "outputs": [
    {
     "name": "stdout",
     "output_type": "stream",
     "text": [
      "German Vocab size 5651\n"
     ]
    }
   ],
   "source": [
    "# prepare german tokenizer\n",
    "ger_tokenizer = create_tokenizer(dataset[:,1])\n",
    "ger_vocab_size = len(ger_tokenizer.word_index) + 1\n",
    "ger_length = max_length(dataset[:, 1])\n",
    "print(f'German Vocab size {ger_vocab_size}')"
   ]
  },
  {
   "cell_type": "code",
   "execution_count": 89,
   "metadata": {},
   "outputs": [
    {
     "data": {
      "text/plain": [
       "5"
      ]
     },
     "execution_count": 89,
     "metadata": {},
     "output_type": "execute_result"
    }
   ],
   "source": [
    "max_length(dataset[:,0])"
   ]
  },
  {
   "cell_type": "code",
   "execution_count": 90,
   "metadata": {},
   "outputs": [
    {
     "data": {
      "text/plain": [
       "9"
      ]
     },
     "execution_count": 90,
     "metadata": {},
     "output_type": "execute_result"
    }
   ],
   "source": [
    "max_length(dataset[:,1])"
   ]
  },
  {
   "cell_type": "code",
   "execution_count": 91,
   "metadata": {},
   "outputs": [],
   "source": [
    "# encode and pad sequences\n",
    "def encode_sequences(tokenizer, length, lines):\n",
    "    # integer encode sequences\n",
    "    X = tokenizer.texts_to_sequences(lines)\n",
    "    # pad\n",
    "    X = pad_sequences(X, maxlen = length, padding='post')\n",
    "    return X"
   ]
  },
  {
   "cell_type": "code",
   "execution_count": 92,
   "metadata": {},
   "outputs": [],
   "source": [
    "from tensorflow.keras.utils import to_categorical"
   ]
  },
  {
   "cell_type": "code",
   "execution_count": 93,
   "metadata": {},
   "outputs": [],
   "source": [
    "def encode_output(sequences, vocab_size):\n",
    "    ylist = []\n",
    "    for sequence in sequences:\n",
    "        encoded = to_categorical(sequence, num_classes=vocab_size)\n",
    "        ylist.append(encoded)\n",
    "    y = np.array(ylist)\n",
    "    y = y.reshape(sequences.shape[0], sequences.shape[1], vocab_size)\n",
    "    return y"
   ]
  },
  {
   "cell_type": "code",
   "execution_count": 94,
   "metadata": {},
   "outputs": [],
   "source": [
    "trainX = encode_sequences(ger_tokenizer ,ger_length, train[:, 1])\n",
    "trainY = encode_sequences(eng_tokenizer ,eng_length, train[:, 0])\n",
    "trainY = encode_output(trainY, eng_vocab_size)"
   ]
  },
  {
   "cell_type": "code",
   "execution_count": 97,
   "metadata": {},
   "outputs": [
    {
     "data": {
      "text/plain": [
       "(9000, 9)"
      ]
     },
     "execution_count": 97,
     "metadata": {},
     "output_type": "execute_result"
    }
   ],
   "source": [
    "trainX.shape"
   ]
  },
  {
   "cell_type": "code",
   "execution_count": 98,
   "metadata": {},
   "outputs": [
    {
     "data": {
      "text/plain": [
       "(9000, 5, 5651)"
      ]
     },
     "execution_count": 98,
     "metadata": {},
     "output_type": "execute_result"
    }
   ],
   "source": [
    "trainY.shape"
   ]
  },
  {
   "cell_type": "code",
   "execution_count": 99,
   "metadata": {},
   "outputs": [],
   "source": [
    "testX = encode_sequences(ger_tokenizer, ger_length, test[: ,1])\n",
    "testY = encode_sequences(eng_tokenizer, eng_length, test[: ,0])\n",
    "testY = encode_output(testY, eng_vocab_size)"
   ]
  },
  {
   "cell_type": "code",
   "execution_count": 100,
   "metadata": {},
   "outputs": [
    {
     "data": {
      "text/plain": [
       "(1000, 5, 5651)"
      ]
     },
     "execution_count": 100,
     "metadata": {},
     "output_type": "execute_result"
    }
   ],
   "source": [
    "testY.shape"
   ]
  },
  {
   "cell_type": "markdown",
   "metadata": {},
   "source": [
    "#### MODEL"
   ]
  },
  {
   "cell_type": "code",
   "execution_count": 118,
   "metadata": {},
   "outputs": [],
   "source": [
    "from tensorflow.keras.models import Sequential\n",
    "from tensorflow.keras.layers import LSTM, Dense, Embedding, RepeatVector, TimeDistributed\n",
    "from tensorflow.keras.callbacks import ModelCheckpoint\n"
   ]
  },
  {
   "cell_type": "code",
   "execution_count": 119,
   "metadata": {},
   "outputs": [],
   "source": [
    "def Model(src_vocab, tar_vocab, src_timesteps, tar_timesteps, n_units):\n",
    "    model = Sequential()\n",
    "    model.add(Embedding(src_vocab, n_units, input_length = src_timesteps, mask_zero=True))\n",
    "    model.add(LSTM(n_units))\n",
    "    model.add(RepeatVector(tar_timesteps))\n",
    "    model.add(LSTM(n_units, return_sequences=True))\n",
    "    model.add(TimeDistributed(Dense(tar_vocab, activation='softmax')))\n",
    "    \n",
    "    model.compile(optimizer='adam', loss='categorical_crossentropy')\n",
    "    model.summary()\n",
    "    return model\n",
    "\n",
    "    "
   ]
  },
  {
   "cell_type": "code",
   "execution_count": 120,
   "metadata": {},
   "outputs": [
    {
     "name": "stdout",
     "output_type": "stream",
     "text": [
      "Model: \"sequential_5\"\n",
      "_________________________________________________________________\n",
      "Layer (type)                 Output Shape              Param #   \n",
      "=================================================================\n",
      "embedding_5 (Embedding)      (None, 9, 256)            1446656   \n",
      "_________________________________________________________________\n",
      "lstm_10 (LSTM)               (None, 256)               525312    \n",
      "_________________________________________________________________\n",
      "repeat_vector_5 (RepeatVecto (None, 5, 256)            0         \n",
      "_________________________________________________________________\n",
      "lstm_11 (LSTM)               (None, 5, 256)            525312    \n",
      "_________________________________________________________________\n",
      "time_distributed_5 (TimeDist (None, 5, 5651)           1452307   \n",
      "=================================================================\n",
      "Total params: 3,949,587\n",
      "Trainable params: 3,949,587\n",
      "Non-trainable params: 0\n",
      "_________________________________________________________________\n"
     ]
    }
   ],
   "source": [
    "model = Model(ger_vocab_size, eng_vocab_size, ger_length, eng_length, 256)"
   ]
  },
  {
   "cell_type": "code",
   "execution_count": 121,
   "metadata": {},
   "outputs": [],
   "source": [
    "checkpoint = ModelCheckpoint('model.h5', monitor='val_loss', verbose=1, save_best_only=True, mode='min')"
   ]
  },
  {
   "cell_type": "code",
   "execution_count": 122,
   "metadata": {},
   "outputs": [
    {
     "name": "stdout",
     "output_type": "stream",
     "text": [
      "Train on 9000 samples, validate on 1000 samples\n",
      "Epoch 1/30\n",
      "8992/9000 [============================>.] - ETA: 0s - loss: 4.0443\n",
      "Epoch 00001: val_loss improved from inf to 3.31287, saving model to model.h5\n",
      "9000/9000 [==============================] - 59s 7ms/sample - loss: 4.0442 - val_loss: 3.3129\n",
      "Epoch 2/30\n",
      "8992/9000 [============================>.] - ETA: 0s - loss: 3.1800\n",
      "Epoch 00002: val_loss improved from 3.31287 to 3.16415, saving model to model.h5\n",
      "9000/9000 [==============================] - 43s 5ms/sample - loss: 3.1801 - val_loss: 3.1642\n",
      "Epoch 3/30\n",
      "8992/9000 [============================>.] - ETA: 0s - loss: 2.9956\n",
      "Epoch 00003: val_loss improved from 3.16415 to 3.00219, saving model to model.h5\n",
      "9000/9000 [==============================] - 43s 5ms/sample - loss: 2.9958 - val_loss: 3.0022\n",
      "Epoch 4/30\n",
      "8992/9000 [============================>.] - ETA: 0s - loss: 2.7817\n",
      "Epoch 00004: val_loss improved from 3.00219 to 2.87523, saving model to model.h5\n",
      "9000/9000 [==============================] - 43s 5ms/sample - loss: 2.7819 - val_loss: 2.8752\n",
      "Epoch 5/30\n",
      "8992/9000 [============================>.] - ETA: 0s - loss: 2.6161\n",
      "Epoch 00005: val_loss improved from 2.87523 to 2.76291, saving model to model.h5\n",
      "9000/9000 [==============================] - 43s 5ms/sample - loss: 2.6164 - val_loss: 2.7629\n",
      "Epoch 6/30\n",
      "8992/9000 [============================>.] - ETA: 0s - loss: 2.4591\n",
      "Epoch 00006: val_loss improved from 2.76291 to 2.64196, saving model to model.h5\n",
      "9000/9000 [==============================] - 44s 5ms/sample - loss: 2.4590 - val_loss: 2.6420\n",
      "Epoch 7/30\n",
      "8992/9000 [============================>.] - ETA: 0s - loss: 2.2901\n",
      "Epoch 00007: val_loss improved from 2.64196 to 2.52446, saving model to model.h5\n",
      "9000/9000 [==============================] - 43s 5ms/sample - loss: 2.2899 - val_loss: 2.5245\n",
      "Epoch 8/30\n",
      "8992/9000 [============================>.] - ETA: 0s - loss: 2.1203\n",
      "Epoch 00008: val_loss improved from 2.52446 to 2.41269, saving model to model.h5\n",
      "9000/9000 [==============================] - 44s 5ms/sample - loss: 2.1200 - val_loss: 2.4127\n",
      "Epoch 9/30\n",
      "8992/9000 [============================>.] - ETA: 0s - loss: 1.9608\n",
      "Epoch 00009: val_loss improved from 2.41269 to 2.32699, saving model to model.h5\n",
      "9000/9000 [==============================] - 43s 5ms/sample - loss: 1.9609 - val_loss: 2.3270\n",
      "Epoch 10/30\n",
      "8992/9000 [============================>.] - ETA: 0s - loss: 1.8050\n",
      "Epoch 00010: val_loss improved from 2.32699 to 2.23633, saving model to model.h5\n",
      "9000/9000 [==============================] - 44s 5ms/sample - loss: 1.8051 - val_loss: 2.2363\n",
      "Epoch 11/30\n",
      "8992/9000 [============================>.] - ETA: 0s - loss: 1.6655\n",
      "Epoch 00011: val_loss improved from 2.23633 to 2.16617, saving model to model.h5\n",
      "9000/9000 [==============================] - 43s 5ms/sample - loss: 1.6658 - val_loss: 2.1662\n",
      "Epoch 12/30\n",
      "8992/9000 [============================>.] - ETA: 0s - loss: 1.5311\n",
      "Epoch 00012: val_loss improved from 2.16617 to 2.11196, saving model to model.h5\n",
      "9000/9000 [==============================] - 43s 5ms/sample - loss: 1.5312 - val_loss: 2.1120\n",
      "Epoch 13/30\n",
      "8992/9000 [============================>.] - ETA: 0s - loss: 1.4087\n",
      "Epoch 00013: val_loss improved from 2.11196 to 2.06608, saving model to model.h5\n",
      "9000/9000 [==============================] - 45s 5ms/sample - loss: 1.4084 - val_loss: 2.0661\n",
      "Epoch 14/30\n",
      "8992/9000 [============================>.] - ETA: 0s - loss: 1.2907\n",
      "Epoch 00014: val_loss improved from 2.06608 to 2.01727, saving model to model.h5\n",
      "9000/9000 [==============================] - 47s 5ms/sample - loss: 1.2907 - val_loss: 2.0173\n",
      "Epoch 15/30\n",
      "8992/9000 [============================>.] - ETA: 0s - loss: 1.1766\n",
      "Epoch 00015: val_loss improved from 2.01727 to 1.97747, saving model to model.h5\n",
      "9000/9000 [==============================] - 43s 5ms/sample - loss: 1.1764 - val_loss: 1.9775\n",
      "Epoch 16/30\n",
      "8992/9000 [============================>.] - ETA: 0s - loss: 1.0710\n",
      "Epoch 00016: val_loss improved from 1.97747 to 1.94719, saving model to model.h5\n",
      "9000/9000 [==============================] - 46s 5ms/sample - loss: 1.0713 - val_loss: 1.9472\n",
      "Epoch 17/30\n",
      "8992/9000 [============================>.] - ETA: 0s - loss: 0.9699\n",
      "Epoch 00017: val_loss improved from 1.94719 to 1.90666, saving model to model.h5\n",
      "9000/9000 [==============================] - 43s 5ms/sample - loss: 0.9699 - val_loss: 1.9067\n",
      "Epoch 18/30\n",
      "8992/9000 [============================>.] - ETA: 0s - loss: 0.8748\n",
      "Epoch 00018: val_loss improved from 1.90666 to 1.87967, saving model to model.h5\n",
      "9000/9000 [==============================] - 43s 5ms/sample - loss: 0.8749 - val_loss: 1.8797\n",
      "Epoch 19/30\n",
      "8992/9000 [============================>.] - ETA: 0s - loss: 0.7834\n",
      "Epoch 00019: val_loss improved from 1.87967 to 1.86792, saving model to model.h5\n",
      "9000/9000 [==============================] - 43s 5ms/sample - loss: 0.7833 - val_loss: 1.8679\n",
      "Epoch 20/30\n",
      "8992/9000 [============================>.] - ETA: 0s - loss: 0.7006\n",
      "Epoch 00020: val_loss improved from 1.86792 to 1.83579, saving model to model.h5\n",
      "9000/9000 [==============================] - 43s 5ms/sample - loss: 0.7008 - val_loss: 1.8358\n",
      "Epoch 21/30\n",
      "8992/9000 [============================>.] - ETA: 0s - loss: 0.6249\n",
      "Epoch 00021: val_loss improved from 1.83579 to 1.83343, saving model to model.h5\n",
      "9000/9000 [==============================] - 43s 5ms/sample - loss: 0.6247 - val_loss: 1.8334\n",
      "Epoch 22/30\n",
      "8992/9000 [============================>.] - ETA: 0s - loss: 0.5559\n",
      "Epoch 00022: val_loss improved from 1.83343 to 1.81004, saving model to model.h5\n",
      "9000/9000 [==============================] - 45s 5ms/sample - loss: 0.5558 - val_loss: 1.8100\n",
      "Epoch 23/30\n",
      "8992/9000 [============================>.] - ETA: 0s - loss: 0.4925\n",
      "Epoch 00023: val_loss did not improve from 1.81004\n",
      "9000/9000 [==============================] - 43s 5ms/sample - loss: 0.4924 - val_loss: 1.8125\n",
      "Epoch 24/30\n",
      "8992/9000 [============================>.] - ETA: 0s - loss: 0.4385\n",
      "Epoch 00024: val_loss improved from 1.81004 to 1.80912, saving model to model.h5\n",
      "9000/9000 [==============================] - 44s 5ms/sample - loss: 0.4387 - val_loss: 1.8091\n",
      "Epoch 25/30\n",
      "8992/9000 [============================>.] - ETA: 0s - loss: 0.3930\n",
      "Epoch 00025: val_loss did not improve from 1.80912\n",
      "9000/9000 [==============================] - 43s 5ms/sample - loss: 0.3930 - val_loss: 1.8181\n",
      "Epoch 26/30\n",
      "8992/9000 [============================>.] - ETA: 0s - loss: 0.3482\n",
      "Epoch 00026: val_loss did not improve from 1.80912\n",
      "9000/9000 [==============================] - 42s 5ms/sample - loss: 0.3481 - val_loss: 1.8134\n",
      "Epoch 27/30\n",
      "8992/9000 [============================>.] - ETA: 0s - loss: 0.3135\n",
      "Epoch 00027: val_loss did not improve from 1.80912\n",
      "9000/9000 [==============================] - 43s 5ms/sample - loss: 0.3134 - val_loss: 1.8261\n",
      "Epoch 28/30\n",
      "8992/9000 [============================>.] - ETA: 0s - loss: 0.2811\n",
      "Epoch 00028: val_loss did not improve from 1.80912\n",
      "9000/9000 [==============================] - 43s 5ms/sample - loss: 0.2816 - val_loss: 1.8106\n",
      "Epoch 29/30\n",
      "8992/9000 [============================>.] - ETA: 0s - loss: 0.2545\n",
      "Epoch 00029: val_loss did not improve from 1.80912\n",
      "9000/9000 [==============================] - 43s 5ms/sample - loss: 0.2545 - val_loss: 1.8476\n",
      "Epoch 30/30\n",
      "8992/9000 [============================>.] - ETA: 0s - loss: 0.2309\n",
      "Epoch 00030: val_loss did not improve from 1.80912\n",
      "9000/9000 [==============================] - 43s 5ms/sample - loss: 0.2308 - val_loss: 1.8411\n"
     ]
    },
    {
     "data": {
      "text/plain": [
       "<tensorflow.python.keras.callbacks.History at 0x1a831873888>"
      ]
     },
     "execution_count": 122,
     "metadata": {},
     "output_type": "execute_result"
    }
   ],
   "source": [
    "model.fit(trainX, trainY, epochs=30, batch_size = 32, validation_data=(testX, testY), callbacks=[checkpoint], verbose=1)"
   ]
  },
  {
   "cell_type": "code",
   "execution_count": 124,
   "metadata": {},
   "outputs": [],
   "source": [
    "from nltk.translate.bleu_score import corpus_bleu"
   ]
  },
  {
   "cell_type": "code",
   "execution_count": 126,
   "metadata": {},
   "outputs": [],
   "source": [
    "def load_clean_sentence(filename):\n",
    "    return load(open(filename, 'rb'))"
   ]
  },
  {
   "cell_type": "code",
   "execution_count": 127,
   "metadata": {},
   "outputs": [],
   "source": [
    "def create_tokenizer(lines):\n",
    "    tokenizer = Tokenizer()\n",
    "    tokenizer.fit_on_texts(lines)\n",
    "    return tokenizer"
   ]
  },
  {
   "cell_type": "code",
   "execution_count": 128,
   "metadata": {},
   "outputs": [],
   "source": [
    "def max_length(lines):\n",
    "    return max(len(line.split()) for line in lines)"
   ]
  },
  {
   "cell_type": "code",
   "execution_count": 129,
   "metadata": {},
   "outputs": [],
   "source": [
    "def encode_sequences(tokenizer ,length, lines):\n",
    "    X = tokenizer.texts_to_sequences(lines)\n",
    "    X = pad_sequences(X, maxlen=length, padding='post')\n",
    "    return X"
   ]
  },
  {
   "cell_type": "code",
   "execution_count": 130,
   "metadata": {},
   "outputs": [],
   "source": [
    "def word_for_id(integer, tokenizer):\n",
    "    for word, index in tokenizer.word_index.items():\n",
    "        if index == integer:\n",
    "            return word\n",
    "    return None"
   ]
  },
  {
   "cell_type": "code",
   "execution_count": 131,
   "metadata": {},
   "outputs": [],
   "source": [
    "def predict_sequence(model, tokenizer, source):\n",
    "    prediction = model.predict(source, verbose=0)[0]\n",
    "    integers = [np.argmax(vector) for vector in prediction]\n",
    "    target = []\n",
    "    for i in integers:\n",
    "        word = word_for_id(i, tokenizer)\n",
    "        if word is None:\n",
    "            break\n",
    "        target.append(word)\n",
    "    return ' '.join(target)"
   ]
  },
  {
   "cell_type": "code",
   "execution_count": 142,
   "metadata": {},
   "outputs": [],
   "source": [
    "def evaluate_model(model, sources, raw_dataset):\n",
    "    actual = []\n",
    "    predicted = []\n",
    "    for i, source in enumerate(sources):\n",
    "        source = source.reshape((1, source.shape[0]))\n",
    "        translation = predict_sequence(model, tokenizer, source)\n",
    "        raw_target, raw_src = raw_dataset[i]\n",
    "        if i < 10:\n",
    "            print(f'{raw_src}, {raw_target}, {translation}')\n",
    "        actual.append(raw_target.split())\n",
    "        predicted.append(translation.split())\n",
    "    print('BLEU-1: %f' % corpus_bleu(actual, predicted, weights=(1.0, 0, 0, 0)))\n",
    "    print('BLEU-2: %f' % corpus_bleu(actual, predicted, weights=(0.5, 0.5, 0, 0)))\n",
    "    print('BLEU-3: %f' % corpus_bleu(actual, predicted, weights=(0.3, 0.3, 0.3, 0)))\n",
    "    print('BLEU-4: %f' % corpus_bleu(actual, predicted, weights=(0.25, 0.25, 0.25, 0.25)))"
   ]
  },
  {
   "cell_type": "code",
   "execution_count": 134,
   "metadata": {},
   "outputs": [],
   "source": [
    "dataset = load_clean_sentences('english_german-both.pkl')\n",
    "train = load_clean_sentences('english_german-train.pkl')\n",
    "test = load_clean_sentences('english_german-test.pkl')"
   ]
  },
  {
   "cell_type": "code",
   "execution_count": 135,
   "metadata": {},
   "outputs": [],
   "source": [
    "eng_tokenizer = create_tokenizer(dataset[:, 0])\n",
    "eng_vocab_size = len(eng_tokenizer.word_index) + 1\n",
    "eng_length = max_length(dataset[:, 0])"
   ]
  },
  {
   "cell_type": "code",
   "execution_count": 136,
   "metadata": {},
   "outputs": [],
   "source": [
    "ger_tokenizer = create_tokenizer(dataset[:, 1])\n",
    "ger_vocab_size = len(ger_tokenizer.word_index) + 1\n",
    "ger_length = max_length(dataset[:, 1])"
   ]
  },
  {
   "cell_type": "code",
   "execution_count": 137,
   "metadata": {},
   "outputs": [],
   "source": [
    "trainX = encode_sequences(ger_tokenizer, ger_length, train[:, 1])\n",
    "testX = encode_sequences(ger_tokenizer, ger_length, test[:, 1])"
   ]
  },
  {
   "cell_type": "code",
   "execution_count": 139,
   "metadata": {},
   "outputs": [],
   "source": [
    "from tensorflow.keras.models import load_model"
   ]
  },
  {
   "cell_type": "code",
   "execution_count": 140,
   "metadata": {},
   "outputs": [],
   "source": [
    "model = load_model('model.h5')"
   ]
  },
  {
   "cell_type": "code",
   "execution_count": null,
   "metadata": {},
   "outputs": [],
   "source": []
  }
 ],
 "metadata": {
  "kernelspec": {
   "display_name": "Python 3",
   "language": "python",
   "name": "python3"
  },
  "language_info": {
   "codemirror_mode": {
    "name": "ipython",
    "version": 3
   },
   "file_extension": ".py",
   "mimetype": "text/x-python",
   "name": "python",
   "nbconvert_exporter": "python",
   "pygments_lexer": "ipython3",
   "version": "3.7.7"
  }
 },
 "nbformat": 4,
 "nbformat_minor": 4
}